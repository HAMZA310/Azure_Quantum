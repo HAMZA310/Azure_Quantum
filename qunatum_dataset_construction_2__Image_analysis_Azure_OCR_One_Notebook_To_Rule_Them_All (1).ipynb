{
  "nbformat": 4,
  "nbformat_minor": 0,
  "metadata": {
    "colab": {
      "name": "qunatum_dataset_construction_2__Image_analysis_Azure_OCR_One_Notebook_To_Rule_Them_All.ipynb",
      "provenance": [],
      "collapsed_sections": []
    },
    "kernelspec": {
      "name": "python3",
      "display_name": "Python 3"
    },
    "language_info": {
      "name": "python"
    }
  },
  "cells": [
    {
      "cell_type": "code",
      "metadata": {
        "id": "WgCWfpz0nHkU"
      },
      "source": [
        "%%capture\n",
        "!pip install --upgrade azure-cognitiveservices-vision-computervision\n",
        "!pip install pillow\n",
        "!pip install sentence_transformers\n"
      ],
      "execution_count": null,
      "outputs": []
    },
    {
      "cell_type": "code",
      "metadata": {
        "id": "8i2ltJgGm4md"
      },
      "source": [
        "from azure.cognitiveservices.vision.computervision import ComputerVisionClient\n",
        "from azure.cognitiveservices.vision.computervision.models import OperationStatusCodes\n",
        "from azure.cognitiveservices.vision.computervision.models import VisualFeatureTypes\n",
        "from msrest.authentication import CognitiveServicesCredentials\n",
        "\n",
        "from array import array\n",
        "import os\n",
        "from PIL import Image\n",
        "import sys\n",
        "import time\n",
        "\n",
        "'''\n",
        "Authenticate\n",
        "Authenticates your credentials and creates a client.\n",
        "'''\n",
        "# TO DO: Replace it with real key\n",
        "subscription_key = \"FIND_IT_FROM_KEEPER\"\n",
        "endpoint = \"https://ocr-read-image-resource.cognitiveservices.azure.com/\""
      ],
      "execution_count": null,
      "outputs": []
    },
    {
      "cell_type": "code",
      "metadata": {
        "id": "cEn5dJ58nCBZ"
      },
      "source": [
        "import re"
      ],
      "execution_count": null,
      "outputs": []
    },
    {
      "cell_type": "code",
      "metadata": {
        "id": "tPYDBoPZnEgg"
      },
      "source": [
        "computervision_client = ComputerVisionClient(endpoint, CognitiveServicesCredentials(subscription_key))"
      ],
      "execution_count": null,
      "outputs": []
    },
    {
      "cell_type": "code",
      "metadata": {
        "id": "cu6ta_GRnMhE"
      },
      "source": [
        "# Retry if name resolution failure occurs\n",
        "'''\n",
        "OCR: Read File using the Read API, extract text - remote\n",
        "This example will extract text in an image, then print results, line by line.\n",
        "This API call can also extract handwriting style text (not shown).\n",
        "'''\n",
        "\n",
        "def extract_text(url):\n",
        "    print(\"===== Read File - remote =====\")\n",
        "    # Get an image with text\n",
        "    read_image_url = url\n",
        "\n",
        "    # Call API with URL and raw response (allows you to get the operation location)\n",
        "    read_response = computervision_client.read(read_image_url,  raw=True)\n",
        "\n",
        "    # Get the operation location (URL with an ID at the end) from the response\n",
        "    read_operation_location = read_response.headers[\"Operation-Location\"]\n",
        "    # # Grab the ID from the URL\n",
        "    operation_id = read_operation_location.split(\"/\")[-1]\n",
        "\n",
        "    # operation_id = \"fa0f4d51-c13f-4223-bac2-5b6c55c5f3da\"\n",
        "\n",
        "\n",
        "    # Call the \"GET\" API and wait for it to retrieve the results \n",
        "    while True:\n",
        "        read_result = computervision_client.get_read_result(operation_id)\n",
        "        if read_result.status not in ['notStarted', 'running']:\n",
        "            break\n",
        "        time.sleep(1)\n",
        "\n",
        "    # Print the detected text, line by line\n",
        "    texts = []\n",
        "    if read_result.status == OperationStatusCodes.succeeded:\n",
        "        for text_result in read_result.analyze_result.read_results:\n",
        "            for line in text_result.lines:\n",
        "                texts.append(line.text)\n",
        "                # print(line.text)\n",
        "                # print(line.bounding_box)\n",
        "    return texts"
      ],
      "execution_count": null,
      "outputs": []
    },
    {
      "cell_type": "code",
      "metadata": {
        "id": "-ynqybo7nSH4"
      },
      "source": [
        "class ScreenshotType:\n",
        "    def __init__(self):\n",
        "        pass\n",
        "    \n",
        "    def __call__(self, text_str):\n",
        "        if \"Heart Pts Steps\" in text_str:\n",
        "            return \"Google Fit\"\n",
        "        if \"fitbit\" in text_str or 'fitbit premium' in text_str:\n",
        "            return \"Fitbit\"\n",
        "        if \"Move\" in text_str and \"Exercise\" in text_str and \"Stand\" in text_str:\n",
        "            return \"Apple Health\"\n",
        "        if \"TIME\" in text_str and \"PACE\" in text_str and \"ELEV. GAIN\" in text_str:\n",
        "            return \"Germin\"\n",
        "        if \"In bed\" in text_str:\n",
        "            return \"Sleep App\"\n",
        "        if \"breathe in\" in text_str or \"breathe out\" in text_str:\n",
        "            return \"Calm App\"\n",
        "        if \"CADENCE\" in text_str and \"RESISTANCE\" in text_str:\n",
        "            return \"Peloton App\"\n",
        "        if \"Average Duration\" in text_str:\n",
        "            return \"Headspace App\"\n",
        "        else:\n",
        "            return \"Screenshot Type NOT matched!\"\n",
        "            "
      ],
      "execution_count": null,
      "outputs": []
    },
    {
      "cell_type": "code",
      "metadata": {
        "id": "AFj7wUUDnTyt"
      },
      "source": [
        "class IsNumber:\n",
        "    def __init__(self):\n",
        "        self.s = None\n",
        "        self.google_fit_time_format1_re = re.compile(r\"\\d+h\\d+m\")\n",
        "        self.google_fit_time_format2_re = re.compile(r\"\\d+h \\d+m\")\n",
        "\n",
        "\n",
        "    def isInt(self, s):\n",
        "        try:\n",
        "            int(s)\n",
        "            return True\n",
        "        except ValueError:\n",
        "            return False\n",
        "    def isFloat(self, s):\n",
        "        try:\n",
        "            float(s)\n",
        "            return True\n",
        "        except ValueError:\n",
        "            return False\n",
        "    \n",
        "    def __call__(self, s):\n",
        "        s = str(s)\n",
        "        if re.match(self.google_fit_time_format1_re, s) or re.match(self.google_fit_time_format2_re, s):\n",
        "            return True\n",
        "        self.s = s.replace(',', '')\n",
        "        if self.isInt(self.s) or self.isFloat(self.s):\n",
        "            return True\n",
        "        else:\n",
        "            return False\n"
      ],
      "execution_count": null,
      "outputs": []
    },
    {
      "cell_type": "code",
      "metadata": {
        "id": "Kna-1c5X9V9e"
      },
      "source": [
        "# Test Case\n",
        "class Validation:\n",
        "    def __init__(self):\n",
        "        self.at_least_one_digit_re = re.compile('\\d')\n",
        "\n",
        "    def at_least_one_digit_test_case(self, info):\n",
        "        # digit should be at the beginning\n",
        "        for key, value in info.items():\n",
        "            if not self.at_least_one_digit_re.match(value):\n",
        "                return False\n",
        "        return True"
      ],
      "execution_count": null,
      "outputs": []
    },
    {
      "cell_type": "code",
      "metadata": {
        "id": "X0nycs4aneQT"
      },
      "source": [
        "class ExtractInformationFitBit:\n",
        "    def __init__(self):\n",
        "        self.is_number = IsNumber()\n",
        "        self.n_steps_taken = 0 \n",
        "        self.validator = Validation()\n",
        "        \n",
        "    def get_digits_start_and_end_idx(self, text_str):\n",
        "        digits_start_idx = 0\n",
        "        digits_started = False\n",
        "        n_digits = 0\n",
        "\n",
        "        for i in range(len(text_str)):\n",
        "            elm = text_str[i]\n",
        "            if elm in ['steps', 'Steps']:\n",
        "                # activity_info.append(text_str[i-1])\n",
        "                digits_start_idx = i + 1\n",
        "                digits_started = True\n",
        "                self.n_steps_taken = text_str[i-1]\n",
        "                continue\n",
        "\n",
        "            if digits_started:\n",
        "                if self.is_number(elm):\n",
        "                    n_digits = n_digits + 1\n",
        "                else:\n",
        "                    break\n",
        "        digits_end_idx = digits_start_idx + (n_digits-1)\n",
        "\n",
        "        return (digits_start_idx, digits_end_idx)\n",
        "\n",
        "    def __call__(self, text_str):\n",
        "        digits_st, digits_end = self.get_digits_start_and_end_idx(text_str)\n",
        "        titles_st_idx = digits_end + 1\n",
        "        titles_end_idx = titles_st_idx + (digits_end - digits_st)\n",
        "\n",
        "        digits = text_str[digits_st:digits_end+1]\n",
        "        titles = text_str[titles_st_idx:titles_end_idx+1]\n",
        "\n",
        "        # append steps\n",
        "        titles = ['steps'] + titles \n",
        "        digits = [self.n_steps_taken] + digits\n",
        "\n",
        "        # clean digits\n",
        "        digits = [elm.replace(',', '') for elm in digits]\n",
        "        digits = [re.sub('[^0-9.]','', elm) for elm in digits] # remove all expect numbers (with decimals)\n",
        "\n",
        "\n",
        "        # lower case titles\n",
        "        titles = [elm.lower() for elm in titles]\n",
        "\n",
        "        extracted_info = dict(zip(titles, digits))\n",
        "        if self.validator.at_least_one_digit_test_case(extracted_info):\n",
        "            return extracted_info\n",
        "        else:\n",
        "            return {\"Parsing Error\": \"Screenshot was not parsed correctly. Upload a matching screenshot!\"}"
      ],
      "execution_count": null,
      "outputs": []
    },
    {
      "cell_type": "code",
      "metadata": {
        "id": "2lCZlRJvnbLy"
      },
      "source": [
        "class ExtractInformationGoogleFit:\n",
        "    def __init__(self):\n",
        "        self.is_number = IsNumber()\n",
        "        self.n_steps_taken = 0\n",
        "        self.heart_pts = 0\n",
        "        self.google_fit_time_format1_re = re.compile(r\"\\d+h\\d+m\")\n",
        "        self.google_fit_time_format2_re = re.compile(r\"\\d+h \\d+m\")\n",
        "        self.validator = Validation()\n",
        "        \n",
        "    def get_digits_start_and_end_idx(self, text_str):\n",
        "        digits_start_idx = 0\n",
        "        digits_started = False\n",
        "        n_digits = 0\n",
        "\n",
        "        for i in range(len(text_str)):\n",
        "            elm = text_str[i]\n",
        "            if elm in ['Heart Pts Steps', 'heart pts steps']:\n",
        "                # activity_info.append(text_str[i-1])\n",
        "                digits_start_idx = i + 1\n",
        "                digits_started = True\n",
        "                self.n_steps_taken = text_str[i-1]\n",
        "                self.heart_pts = text_str[i-2]\n",
        "                continue\n",
        "\n",
        "            if digits_started:\n",
        "                if self.is_number(elm):\n",
        "                    n_digits = n_digits + 1\n",
        "                else:\n",
        "                    break\n",
        "        digits_end_idx = digits_start_idx + (n_digits-1)\n",
        "\n",
        "        return (digits_start_idx, digits_end_idx)\n",
        "\n",
        "    def __call__(self, text_str):\n",
        "        digits_st, digits_end = self.get_digits_start_and_end_idx(text_str)\n",
        "        titles_st_idx = digits_end + 1\n",
        "        titles_end_idx = titles_st_idx + (digits_end - digits_st)\n",
        "\n",
        "        digits = text_str[digits_st:digits_end+1]\n",
        "        titles = text_str[titles_st_idx:titles_end_idx+1]\n",
        "\n",
        "        # append heart_pts and steps\n",
        "        titles = ['heart_pts', 'steps'] + titles \n",
        "        digits = [self.heart_pts, self.n_steps_taken] + digits\n",
        "\n",
        "        # clean digits\n",
        "        digits = [elm.replace(',', '') for elm in digits]\n",
        "        is_sleep_duration = lambda elm: (re.match(self.google_fit_time_format1_re, elm) or re.match(self.google_fit_time_format2_re, elm)) \n",
        "        digits = [re.sub('[^0-9.]','', elm) if not is_sleep_duration(elm) else elm for elm in digits] # remove all expect numbers (with decimals)\n",
        "\n",
        "\n",
        "        # lower case titles\n",
        "        titles = [elm.lower() for elm in titles]\n",
        "\n",
        "        extracted_info = dict(zip(titles, digits))\n",
        "        if self.validator.at_least_one_digit_test_case(extracted_info):\n",
        "            return extracted_info\n",
        "        else:\n",
        "            return {\"Parsing Error\": \"Screenshot was not parsed correctly. Upload a matching screenshot!\"}"
      ],
      "execution_count": null,
      "outputs": []
    },
    {
      "cell_type": "code",
      "metadata": {
        "id": "m183NUfvnVYt"
      },
      "source": [
        "class ExtractInformationAppleHealth:\n",
        "    def __init__(self):\n",
        "        self.is_number = IsNumber()\n",
        "        self.n_steps_taken = 0\n",
        "        self.heart_pts = 0\n",
        "        self.google_fit_time_format1_re = re.compile(r\"\\d+h\\d+m\")\n",
        "        self.google_fit_time_format2_re = re.compile(r\"\\d+h \\d+m\")\n",
        "        self.validator = Validation()\n",
        "        \n",
        "    def __call__(self, text_str):\n",
        "        info_start_idx = 0\n",
        "        for i in range(len(text_str)):\n",
        "            elm = text_str[i]\n",
        "            next_elm = text_str[i+1]\n",
        "            clean_elm = re.sub(r'\\W+', '', elm)\n",
        "            if clean_elm == 'Activity' and ('AM' in next_elm or 'PM' in next_elm):\n",
        "                info_titles_start_idx = i + 2\n",
        "                break\n",
        "        are_steps_found = False\n",
        "        for i in range(len(text_str)):\n",
        "            elm = text_str[i]\n",
        "            if elm == 'steps':\n",
        "                n_steps_taken = text_str[i-1]\n",
        "                are_steps_found = True\n",
        "                break\n",
        "\n",
        "            \n",
        "        titles = text_str[info_titles_start_idx:info_titles_start_idx+3]\n",
        "        info_end_idx = info_titles_start_idx+2\n",
        "        digits_start_idx = info_end_idx + 1\n",
        "        digits = text_str[digits_start_idx:digits_start_idx+3]\n",
        "        \n",
        "        if are_steps_found:\n",
        "            titles = ['steps'] + titles\n",
        "            digits = [str(n_steps_taken)] + digits \n",
        "        \n",
        "        # Clean\n",
        "        digits = [elm.replace(',', '') for elm in digits]\n",
        "        titles = [elm.lower() for elm in titles]\n",
        "\n",
        "        extracted_info = dict(zip(titles, digits))\n",
        "        if self.validator.at_least_one_digit_test_case(extracted_info):\n",
        "            return extracted_info\n",
        "        else:\n",
        "            return {\"Parsing Error\": \"Screenshot was not parsed correctly. Upload a matching screenshot!\"}\n"
      ],
      "execution_count": null,
      "outputs": []
    },
    {
      "cell_type": "code",
      "metadata": {
        "id": "OQhmjcYc8M4S"
      },
      "source": [
        ""
      ],
      "execution_count": null,
      "outputs": []
    },
    {
      "cell_type": "code",
      "metadata": {
        "id": "W4mXUuwT8Bxr"
      },
      "source": [
        "class ExtractInformationGermin:\n",
        "    def __init__(self):\n",
        "        self.validator = Validation()\n",
        "\n",
        "    def __call__(self, text_str):\n",
        "        info = {}\n",
        "        time_index = text_str.index('TIME')\n",
        "        time_amount = text_str[time_index+1]\n",
        "        info['time'] = time_amount\n",
        "        info['pace'] = text_str[time_index+3]\n",
        "        info['elev. gain'] = text_str[time_index+6]\n",
        "        info['calories'] = text_str[time_index+8]\n",
        "        steps_indx = text_str.index('Steps')\n",
        "        info['steps'] = text_str[steps_indx+1].replace(',', '')\n",
        "\n",
        "        if self.validator.at_least_one_digit_test_case(info):\n",
        "            return info\n",
        "        else:\n",
        "            return {\"Parsing Error\": \"Screenshot was not parsed correctly. Upload a matching screenshot!\"}\n"
      ],
      "execution_count": null,
      "outputs": []
    },
    {
      "cell_type": "code",
      "metadata": {
        "id": "1i3VagmrLPBY"
      },
      "source": [
        "class ExtractInformationSleepApp:\n",
        "    def __init__(self):\n",
        "        self.validator = Validation()\n",
        "\n",
        "    def __call__(self, text_str):\n",
        "        info = {}\n",
        "        is_duration_noted = False\n",
        "        is_quality_noted = False\n",
        "        for elm in text_str:\n",
        "            if sleep_duration_re.match(elm) and not is_duration_noted:\n",
        "                info['In Bed Time'] = elm\n",
        "                is_duration_noted = True\n",
        "            elif quality_re.match(elm) and not is_quality_noted:\n",
        "                info['Quality'] = elm\n",
        "                is_quality_noted = True\n",
        "\n",
        "        if self.validator.at_least_one_digit_test_case(info):\n",
        "            return info\n",
        "        else:\n",
        "            return {\"Parsing Error\": \"Screenshot was not parsed correctly. Upload a matching screenshot!\"}\n"
      ],
      "execution_count": null,
      "outputs": []
    },
    {
      "cell_type": "code",
      "metadata": {
        "id": "HIFVrWBl_Ozq"
      },
      "source": [
        "class ExtractInformationCalmApp:\n",
        "    def __init__(self):\n",
        "        pass\n",
        "    def __call__(self, text_str):\n",
        "        info = {}\n",
        "        for elm in text_str:\n",
        "            if time_re.match(elm):\n",
        "                info['meditation duration'] = elm\n",
        "            elif elm == 'breathe in':\n",
        "                info['meditation type'] = elm\n",
        "            elif elm == 'breathe out':\n",
        "                info['meditation type'] = elm\n",
        "\n",
        "        return info"
      ],
      "execution_count": null,
      "outputs": []
    },
    {
      "cell_type": "code",
      "metadata": {
        "id": "VJr9iGuHJty4"
      },
      "source": [
        "class ExtractInformationPelotonApp:\n",
        "    def __init__(self):\n",
        "        pass\n",
        "    def __call__(self, text_str):\n",
        "        number_re = re.compile(\"(\\d+\\.*\\d*)\")\n",
        "        info = {}\n",
        "        if not None in list(map(lambda elm: number_re.match(elm), text_str[-4:])) and text_str[-5] == \"CALORIES (kcal)\":\n",
        "            info['speed (mi/h)'], info['distance (mi)'], info['total output (kj)'], info['calories (kcal)'] = text_str[-4:]\n",
        "        return info"
      ],
      "execution_count": null,
      "outputs": []
    },
    {
      "cell_type": "code",
      "metadata": {
        "id": "VzAiCmAWmr6O"
      },
      "source": [
        "class ExtractInformationHeadspaceApp:\n",
        "    def __init__(self):\n",
        "        pass\n",
        "    def __call__(self, text_str):\n",
        "        info = {}\n",
        "        Average_Duration_idx = text_str.index('Average Duration')\n",
        "        avg_dur = text_str[Average_Duration_idx - 1]\n",
        "        info['average duration (mins)'] = avg_dur\n",
        "\n",
        "        Total_number_idx = text_str.index('Total number')\n",
        "        n_sessions = text_str[Total_number_idx + 1]\n",
        "        info['total number of sessions'] = n_sessions\n",
        "\n",
        "        meditating_idx = text_str.index('meditating')\n",
        "        time_meditating = text_str[meditating_idx - 1]\n",
        "        info['total time meditating (hrs)'] = time_meditating\n",
        "        return info"
      ],
      "execution_count": null,
      "outputs": []
    },
    {
      "cell_type": "code",
      "metadata": {
        "id": "Oun7kZzMmr1f"
      },
      "source": [
        ""
      ],
      "execution_count": null,
      "outputs": []
    },
    {
      "cell_type": "code",
      "metadata": {
        "id": "MtDqMCFXLXjV"
      },
      "source": [
        "time_re = re.compile('\\d+:\\d+')"
      ],
      "execution_count": null,
      "outputs": []
    },
    {
      "cell_type": "code",
      "metadata": {
        "colab": {
          "base_uri": "https://localhost:8080/"
        },
        "id": "_0oZBrGnno_6",
        "outputId": "0af159de-d34b-48d3-8d07-d4ea46b2f508"
      },
      "source": [
        "get_screenshot_Type = ScreenshotType()\n",
        "# invoke the OCR\n",
        "image_url = \"https://miro.medium.com/max/750/1*4WUSd34gHRAjhp20u9qpZA.png\"\n",
        "text_str = extract_text(image_url)\n",
        "text_str\n",
        "_type = get_screenshot_Type(text_str)\n",
        "print('Detected App', _type)\n",
        "if _type == \"Apple Health\":\n",
        "    print('apple')\n",
        "    info_extractor = ExtractInformationAppleHealth()\n",
        "elif _type == \"Fitbit\":\n",
        "    print('fitbit')\n",
        "    info_extractor = ExtractInformationFitBit()\n",
        "elif _type == \"Google Fit\":\n",
        "    print('google fit')\n",
        "    info_extractor = ExtractInformationGoogleFit()\n",
        "elif _type == \"Germin\":\n",
        "    info_extractor = ExtractInformationGermin()\n",
        "elif _type == \"Sleep App\":\n",
        "    info_extractor = ExtractInformationSleepApp()\n",
        "elif _type == \"Calm App\":\n",
        "    info_extractor = ExtractInformationCalmApp()\n",
        "elif _type == \"Peloton App\":\n",
        "    info_extractor = ExtractInformationPelotonApp()\n",
        "elif _type == \"Headspace App\":\n",
        "    info_extractor = ExtractInformationHeadspaceApp()\n",
        "else:\n",
        "    print('no extractor found!')\n",
        "    info_extractor = None\n",
        "info_extractor(text_str)"
      ],
      "execution_count": null,
      "outputs": [
        {
          "output_type": "stream",
          "text": [
            "===== Read File - remote =====\n",
            "Detected App Headspace App\n"
          ],
          "name": "stdout"
        },
        {
          "output_type": "execute_result",
          "data": {
            "text/plain": [
              "{'average duration (mins)': '17',\n",
              " 'total number of sessions': '153',\n",
              " 'total time meditating (hrs)': '43'}"
            ]
          },
          "metadata": {
            "tags": []
          },
          "execution_count": 18
        }
      ]
    },
    {
      "cell_type": "code",
      "metadata": {
        "id": "CErYhQ0S_ZcG"
      },
      "source": [
        ""
      ],
      "execution_count": null,
      "outputs": []
    },
    {
      "cell_type": "markdown",
      "metadata": {
        "id": "Nr1XPZLROhYb"
      },
      "source": [
        "## Construct Data\n"
      ]
    },
    {
      "cell_type": "code",
      "metadata": {
        "id": "Xx_jE6elDQjv"
      },
      "source": [
        "from sentence_transformers import SentenceTransformer\n",
        "model = SentenceTransformer('paraphrase-MiniLM-L6-v2')\n",
        "\n",
        "#Our sentences we like to encode\n"
      ],
      "execution_count": null,
      "outputs": []
    },
    {
      "cell_type": "code",
      "metadata": {
        "id": "Fi3K9YifuWn-"
      },
      "source": [
        "movement_urls = [\n",
        "                 'https://pbs.twimg.com/media/DuHMDcPW0AEm6dy.jpg',\n",
        "                 'https://pageflows.com/media/videos/thumbnail_75684d6b-b930-478a-88dc-5ff9fd36cdc6.jpg',\n",
        "                 'https://play-lh.googleusercontent.com/n0OJCLgqxNGh1CkTRc884n979zGVuJ3c-jWH_KaNB_YxhwzKl3xqub5h-zxhTb-U4A',\n",
        "                 'http://www.davidleeking.com/wp-content/uploads/2017/08/IMG_0955-169x300.png',\n",
        "                 'https://storage.googleapis.com/gweb-uniblog-publish-prod/images/Fit_update.max-1000x1000.png',\n",
        "                 'https://wearos.google.com/static/images/phones/pixel5-fit_1x.png',\n",
        "                 'https://i.insider.com/5d236b85a17d6c44c3476e73?width=750&format=jpeg&auto=webp',\n",
        "                 'https://connect.garmin.com/static/screen-phone-myday-717fec02a4d8eea2690241774363b357.png'\n",
        "]\n",
        "\n",
        "mindfulness_urls = [\n",
        "                    'https://thesweetsetup.com/wp-content/uploads/2019/11/sleepcycle.jpg',\n",
        "                    'https://i1.wp.com/articles.mytennights.com/wp-content/uploads/2020/05/Sleep-Cycle-Image.jpg?fit=960%2C635&ssl=1',\n",
        "                    'https://pbs.twimg.com/media/C3dM8nmWIAIery5.jpg',\n",
        "                    'https://www.gannett-cdn.com/presto/2019/11/14/PUPP/97bace99-07b8-44eb-a5fe-00e4fea80362-1119_UP_Calm_app1_copy.png?width=640',\n",
        "                    'https://miro.medium.com/max/750/1*4WUSd34gHRAjhp20u9qpZA.png'\n",
        "]"
      ],
      "execution_count": null,
      "outputs": []
    },
    {
      "cell_type": "code",
      "metadata": {
        "id": "souiL00WEsHh"
      },
      "source": [
        "def extract_features(url):\n",
        "    # feature dim: 384\n",
        "    text_str = extract_text(url)\n",
        "    clean_tokens = [t for t in text_str if re.match(r'[^\\W\\d]*$', t)]\n",
        "    sentences = ','.join(clean_tokens)\n",
        "    sentence_embeddings = model.encode(sentences)\n",
        "    return sentence_embeddings.tolist()"
      ],
      "execution_count": null,
      "outputs": []
    },
    {
      "cell_type": "code",
      "metadata": {
        "colab": {
          "base_uri": "https://localhost:8080/"
        },
        "id": "XdD--E9QuWlP",
        "outputId": "848a9d3c-4213-41cf-9d35-20033c053b2d"
      },
      "source": [
        "get_screenshot_Type = ScreenshotType()\n",
        "# invoke the OCR\n",
        "image_url = \"https://pageflows.com/media/videos/thumbnail_75684d6b-b930-478a-88dc-5ff9fd36cdc6.jpg\"\n",
        "Features = []\n",
        "Labels = []\n",
        "labels_map = {'movement': 0, 'mindfulness': 1}\n",
        "\n",
        "\n",
        "\n",
        "for image_url in movement_urls:\n",
        "    sentence_embeddings = extract_features(image_url)\n",
        "    Features.append(sentence_embeddings)\n",
        "    Labels.append(0)\n",
        "\n",
        "for image_url in mindfulness_urls:\n",
        "    sentence_embeddings = extract_features(image_url)\n",
        "    Features.append(sentence_embeddings)\n",
        "    Labels.append(1)"
      ],
      "execution_count": null,
      "outputs": [
        {
          "output_type": "stream",
          "text": [
            "===== Read File - remote =====\n",
            "===== Read File - remote =====\n",
            "===== Read File - remote =====\n",
            "===== Read File - remote =====\n",
            "===== Read File - remote =====\n",
            "===== Read File - remote =====\n",
            "===== Read File - remote =====\n",
            "===== Read File - remote =====\n",
            "===== Read File - remote =====\n",
            "===== Read File - remote =====\n",
            "===== Read File - remote =====\n",
            "===== Read File - remote =====\n",
            "===== Read File - remote =====\n"
          ],
          "name": "stdout"
        }
      ]
    },
    {
      "cell_type": "code",
      "metadata": {
        "id": "_UvYKhNnDf9V"
      },
      "source": [
        "assert len(Features) == len(Labels)"
      ],
      "execution_count": null,
      "outputs": []
    },
    {
      "cell_type": "code",
      "metadata": {
        "id": "CSA7A4KhHc5s"
      },
      "source": [
        "assert len(Features[0]) == 384"
      ],
      "execution_count": null,
      "outputs": []
    },
    {
      "cell_type": "code",
      "metadata": {
        "id": "NZDLqsDiBw18"
      },
      "source": [
        "TrainingData = {'Features': Features[1:-1], 'Labels': Labels[1:-1]}\n",
        "ValidationData = {'Features': [Features[0], Features[-1]], 'Labels': [Labels[0], Labels[-1]]}"
      ],
      "execution_count": null,
      "outputs": []
    },
    {
      "cell_type": "code",
      "metadata": {
        "id": "goBh8CAOJOBR"
      },
      "source": [
        "import json"
      ],
      "execution_count": null,
      "outputs": []
    },
    {
      "cell_type": "code",
      "metadata": {
        "id": "WG3ucjQ7IJnh"
      },
      "source": [
        "data = {\n",
        "    \"TrainingData\": TrainingData,\n",
        "    \"ValidationData\": ValidationData\n",
        "}"
      ],
      "execution_count": null,
      "outputs": []
    },
    {
      "cell_type": "code",
      "metadata": {
        "id": "ttDqZqHtIiDa"
      },
      "source": [
        "with open('data.json', 'w') as f:\n",
        "    json.dump(data, f)"
      ],
      "execution_count": null,
      "outputs": []
    },
    {
      "cell_type": "code",
      "metadata": {
        "id": "q3xgBQgUJZcJ"
      },
      "source": [
        ""
      ],
      "execution_count": null,
      "outputs": []
    }
  ]
}